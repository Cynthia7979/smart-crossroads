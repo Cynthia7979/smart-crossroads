{
 "cells": [
  {
   "cell_type": "markdown",
   "metadata": {},
   "source": [
    "# PyTorch - YOLOv3\n",
    "[项目地址](https://github.com/eriklindernoren/PyTorch-YOLOv3)\n",
    "## 下载库\n",
    "1. 用Git运行`git clone https://github.com/eriklindernoren/PyTorch-YOLOv3`\n",
    "2. 用Anaconda运行`pip install -r requirements.txt`\n",
    "3. 分别打开这三个链接：\n",
    "  * https://pjreddie.com/media/files/yolov3.weights\n",
    "  * https://pjreddie.com/media/files/yolov3-tiny.weights\n",
    "  * https://pjreddie.com/media/files/yolov3-tiny.weights\n",
    "  并将下载的文件拷到weights文件夹里\n",
    "\n",
    "## 检测图片\n",
    "1. Anaconda切到项目文件夹（`cd 文件夹名称`）\n",
    "2. 输入`python detect.py --image_folder 图片所在文件夹`\n",
    "  * 注意：图片所在文件夹内不能有非图片\n",
    "  * 最好将图片直接放到库文件夹里\n",
    "3. 在`outputs`文件夹里找到检测后的图片"
   ]
  }
 ],
 "metadata": {
  "kernelspec": {
   "display_name": "Python 3",
   "language": "python",
   "name": "python3"
  },
  "language_info": {
   "codemirror_mode": {
    "name": "ipython",
    "version": 3
   },
   "file_extension": ".py",
   "mimetype": "text/x-python",
   "name": "python",
   "nbconvert_exporter": "python",
   "pygments_lexer": "ipython3",
   "version": "3.7.4"
  }
 },
 "nbformat": 4,
 "nbformat_minor": 2
}
